{
 "cells": [
  {
   "cell_type": "code",
   "execution_count": 132,
   "metadata": {},
   "outputs": [],
   "source": [
    "from tkinter import *\n",
    "from tkinter import ttk\n",
    "import serial\n",
    "import matplotlib.pyplot as plt\n",
    "ser = serial.Serial('COM3',  baudrate=115200, timeout=1)"
   ]
  },
  {
   "cell_type": "code",
   "execution_count": 139,
   "metadata": {},
   "outputs": [
    {
     "data": {
      "text/plain": [
       "b'31153 106180\\r\\n'"
      ]
     },
     "execution_count": 139,
     "metadata": {},
     "output_type": "execute_result"
    }
   ],
   "source": [
    "r=ser.readline() \n",
    "r"
   ]
  },
  {
   "cell_type": "code",
   "execution_count": null,
   "metadata": {},
   "outputs": [],
   "source": []
  },
  {
   "cell_type": "code",
   "execution_count": 62,
   "metadata": {},
   "outputs": [
    {
     "data": {
      "text/plain": [
       "'31754 107293\\r\\n'"
      ]
     },
     "execution_count": 62,
     "metadata": {},
     "output_type": "execute_result"
    }
   ],
   "source": [
    "r.decode()"
   ]
  },
  {
   "cell_type": "code",
   "execution_count": 63,
   "metadata": {},
   "outputs": [
    {
     "data": {
      "text/plain": [
       "['31754', '107293']"
      ]
     },
     "execution_count": 63,
     "metadata": {},
     "output_type": "execute_result"
    }
   ],
   "source": [
    "r.decode().split()"
   ]
  },
  {
   "cell_type": "code",
   "execution_count": 65,
   "metadata": {},
   "outputs": [
    {
     "name": "stdout",
     "output_type": "stream",
     "text": [
      "31754\n"
     ]
    }
   ],
   "source": [
    "a,b=r.decode().split()\n",
    "\n",
    "\n",
    "print(a)"
   ]
  },
  {
   "cell_type": "code",
   "execution_count": 73,
   "metadata": {},
   "outputs": [
    {
     "data": {
      "text/plain": [
       "b'30620 103466\\r\\n'"
      ]
     },
     "execution_count": 73,
     "metadata": {},
     "output_type": "execute_result"
    }
   ],
   "source": [
    "INdata=ser.readline() \n",
    "INdata"
   ]
  },
  {
   "cell_type": "code",
   "execution_count": 96,
   "metadata": {},
   "outputs": [
    {
     "name": "stdout",
     "output_type": "stream",
     "text": [
      "b'31629 109364\\r\\n'\n",
      "31629\n",
      "109364\n"
     ]
    }
   ],
   "source": [
    "INdata=ser.readline() \n",
    "REDdata,IRdata=INdata.decode().split()\n",
    "print(INdata)\n",
    "print(REDdata)\n",
    "print(IRdata)"
   ]
  },
  {
   "cell_type": "code",
   "execution_count": 100,
   "metadata": {},
   "outputs": [],
   "source": [
    "INdata = 0\n",
    "REDdata = [0]*200\n",
    "IRdata = [0]*200"
   ]
  },
  {
   "cell_type": "code",
   "execution_count": 102,
   "metadata": {
    "scrolled": false
   },
   "outputs": [
    {
     "ename": "ValueError",
     "evalue": "not enough values to unpack (expected 2, got 0)",
     "output_type": "error",
     "traceback": [
      "\u001b[1;31m---------------------------------------------------------------------------\u001b[0m",
      "\u001b[1;31mValueError\u001b[0m                                Traceback (most recent call last)",
      "\u001b[1;32m<ipython-input-102-7498e93e7e87>\u001b[0m in \u001b[0;36m<module>\u001b[1;34m\u001b[0m\n\u001b[0;32m      5\u001b[0m     \u001b[0mIRdata\u001b[0m\u001b[1;33m[\u001b[0m\u001b[0mi\u001b[0m\u001b[1;33m]\u001b[0m \u001b[1;33m=\u001b[0m \u001b[0mIRdata\u001b[0m\u001b[1;33m[\u001b[0m\u001b[0mi\u001b[0m\u001b[1;33m+\u001b[0m\u001b[1;36m1\u001b[0m\u001b[1;33m]\u001b[0m\u001b[1;33m\u001b[0m\u001b[1;33m\u001b[0m\u001b[0m\n\u001b[0;32m      6\u001b[0m \u001b[0mINdata\u001b[0m\u001b[1;33m=\u001b[0m\u001b[0mser\u001b[0m\u001b[1;33m.\u001b[0m\u001b[0mreadline\u001b[0m\u001b[1;33m(\u001b[0m\u001b[1;33m)\u001b[0m\u001b[1;33m\u001b[0m\u001b[1;33m\u001b[0m\u001b[0m\n\u001b[1;32m----> 7\u001b[1;33m \u001b[0mREDdata\u001b[0m\u001b[1;33m[\u001b[0m\u001b[1;36m199\u001b[0m\u001b[1;33m]\u001b[0m\u001b[1;33m,\u001b[0m\u001b[0mIRdata\u001b[0m\u001b[1;33m[\u001b[0m\u001b[1;36m199\u001b[0m\u001b[1;33m]\u001b[0m\u001b[1;33m=\u001b[0m\u001b[0mINdata\u001b[0m\u001b[1;33m.\u001b[0m\u001b[0mdecode\u001b[0m\u001b[1;33m(\u001b[0m\u001b[1;33m)\u001b[0m\u001b[1;33m.\u001b[0m\u001b[0msplit\u001b[0m\u001b[1;33m(\u001b[0m\u001b[1;33m)\u001b[0m\u001b[1;33m\u001b[0m\u001b[1;33m\u001b[0m\u001b[0m\n\u001b[0m\u001b[0;32m      8\u001b[0m \u001b[1;33m\u001b[0m\u001b[0m\n\u001b[0;32m      9\u001b[0m \u001b[1;33m\u001b[0m\u001b[0m\n",
      "\u001b[1;31mValueError\u001b[0m: not enough values to unpack (expected 2, got 0)"
     ]
    }
   ],
   "source": [
    "\n",
    "\n",
    "for i in range(199):\n",
    "    REDdata[i] = REDdata[i+1] \n",
    "    IRdata[i] = IRdata[i+1]         \n",
    "INdata=ser.readline() \n",
    "REDdata[199],IRdata[199]=INdata.decode().split()\n",
    "\n",
    "    \n",
    "print(REDdata[198],REDdata[199])"
   ]
  },
  {
   "cell_type": "code",
   "execution_count": 140,
   "metadata": {},
   "outputs": [],
   "source": [
    "from tkinter import *\n",
    "from tkinter import ttk\n",
    "import serial\n",
    "import matplotlib.pyplot as plt\n",
    "ser = serial.Serial('COM3',  baudrate=115200, timeout=1)"
   ]
  },
  {
   "cell_type": "code",
   "execution_count": 141,
   "metadata": {},
   "outputs": [
    {
     "name": "stderr",
     "output_type": "stream",
     "text": [
      "Exception in Tkinter callback\n",
      "Traceback (most recent call last):\n",
      "  File \"C:\\ProgramData\\Anaconda3\\lib\\tkinter\\__init__.py\", line 1705, in __call__\n",
      "    return self.func(*args)\n",
      "  File \"C:\\ProgramData\\Anaconda3\\lib\\tkinter\\__init__.py\", line 749, in callit\n",
      "    func(*args)\n",
      "  File \"<ipython-input-141-e9c52aeb169d>\", line 25, in tt\n",
      "    dd[199] = int(ser.readline())\n",
      "ValueError: invalid literal for int() with base 10: b'127 0\\r\\n'\n"
     ]
    }
   ],
   "source": [
    "root = Tk()\n",
    "root.geometry('820x820')\n",
    "root['bg']=\"#333\"\n",
    "ca = Canvas(root, width=800, height=800)\n",
    "ca.place(x=8,y=8)\n",
    "\n",
    "timestr=StringVar()\n",
    "lb=Label(root,textvariable=timestr)\n",
    "lb.place(x=20,y=20,height=30)\n",
    "style=ttk.Style(root)\n",
    "style.configure(\".\",font=\"Arial 15\")\n",
    "\n",
    "dd = [0]*200\n",
    "outdata = [0]*198\n",
    "\n",
    "def tt():\n",
    "    global dd\n",
    "    global outdata\n",
    "    newdd = [0]*199\n",
    "    \n",
    "    ca.delete(\"all\")\n",
    "    \n",
    "    for i in range(199):\n",
    "        dd[i] = dd[i+1]\n",
    "    dd[199] = int(ser.readline())\n",
    "      \n",
    "    ddAverage=0\n",
    "    for i in range(199):\n",
    "        ddAverage += dd[i]\n",
    "    ddAverage/=200\n",
    "    ddAverage = 800 - ( (ddAverage-70000) / 3 )\n",
    "    \n",
    "    ddCorrection = 600 - ddAverage\n",
    "      \n",
    "    for i in range(199):\n",
    "        newdd[i] = 800 - ( (dd[i]-70000) / 3 ) + ddCorrection\n",
    "    for i in range(198):\n",
    "        outdata[i] = ( newdd[i] + newdd[i+1] )/2\n",
    "\n",
    "    print( outdata[197] )\n",
    "    #print( \"-----------\" )\n",
    "\n",
    "    #----------------------------------------\n",
    "    \n",
    "    x=0\n",
    "    pxmax=0\n",
    "    pmax=0\n",
    "    pxmin=0\n",
    "    pmin=65535\n",
    "    plv=100\n",
    "    dr=1\n",
    "    ax,ay=[],[]\n",
    "\n",
    "    for p in outdata:\n",
    "        if dr==1:\n",
    "            if p>pmax:\n",
    "                pmax=p\n",
    "                pxmax=x\n",
    "            else:\n",
    "                d=pmax-p\n",
    "                if d > plv:\n",
    "                    #print(x,pxmax,pmax)\n",
    "                    dr=0      \n",
    "                    ax+=[pxmax]\n",
    "                    ay+=[pmax]\n",
    "                    pmin=pmax\n",
    "        else:\n",
    "            if p<pmin:\n",
    "                pmin=p\n",
    "                pxmin=x     \n",
    "            else:\n",
    "                d=p-pmin\n",
    "                if d > plv:\n",
    "                    #print(x,pxmin,pmin)\n",
    "                    pmax=pmin\n",
    "                    dr=1\n",
    "        x+=1\n",
    "    #print( ax )\n",
    "    #print( \"-----------\" )\n",
    "    \n",
    "    #----------------------------------------\n",
    "    \n",
    "    dx=[]\n",
    "    for i in range( len(ax)-1 ):\n",
    "        dx += [ ax[i+1]-ax[i] ] \n",
    "    \n",
    "    sumdx = sum(dx)\n",
    "    if sumdx==0:\n",
    "        sumdx=1      \n",
    "    \n",
    "    lendx = len(dx)\n",
    "    if lendx==0:\n",
    "        lendx=1    \n",
    "      \n",
    "    PPG = round(60*50 / (sumdx/lendx) )\n",
    "    if PPG==3000:\n",
    "        PPG=0  \n",
    "    #print(PPG)  \n",
    "    timestr.set(PPG)\n",
    "    \n",
    "    #----------------------------------------    \n",
    "       \n",
    "    xy=[]\n",
    "    for i in range(len(outdata)):\n",
    "        xy += ( 800-i*6 , outdata[i] )           \n",
    "    ca.create_line(xy, width=2, fill='blue')   \n",
    "    \n",
    "    #---------------------------------------- \n",
    "    \n",
    "    ca.after(1, tt)\n",
    "\n",
    "ca.after(1, tt)\n",
    "\n",
    "mainloop()"
   ]
  }
 ],
 "metadata": {
  "kernelspec": {
   "display_name": "Python 3",
   "language": "python",
   "name": "python3"
  },
  "language_info": {
   "codemirror_mode": {
    "name": "ipython",
    "version": 3
   },
   "file_extension": ".py",
   "mimetype": "text/x-python",
   "name": "python",
   "nbconvert_exporter": "python",
   "pygments_lexer": "ipython3",
   "version": "3.7.1"
  }
 },
 "nbformat": 4,
 "nbformat_minor": 2
}
